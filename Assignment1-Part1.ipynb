{
 "cells": [
  {
   "cell_type": "markdown",
   "metadata": {},
   "source": [
    "## Assignment 1 Part 1"
   ]
  },
  {
   "cell_type": "code",
   "execution_count": 1,
   "metadata": {},
   "outputs": [
    {
     "name": "stdout",
     "output_type": "stream",
     "text": [
      "15.0\n"
     ]
    }
   ],
   "source": [
    "# Take value of n (dtype = float) as an input from user and print it \n",
    "n = float(input())\n",
    "print(n)"
   ]
  },
  {
   "cell_type": "code",
   "execution_count": 2,
   "metadata": {},
   "outputs": [
    {
     "name": "stdout",
     "output_type": "stream",
     "text": [
      "15.2\n",
      "n=15.0 is odd\n"
     ]
    }
   ],
   "source": [
    "# Check if the input value is integer or not\n",
    "# If not integer then keep on taking the values from user until the input value is integer\n",
    "# And check whether the integral input value is even or odd\n",
    "\n",
    "n = float(input())\n",
    "print(n)\n",
    "\n",
    "x = True\n",
    "\n",
    "while x:\n",
    "  if n-int(n) == 0:\n",
    "    x = False\n",
    "    break\n",
    "\n",
    "  else:\n",
    "    n = float(input())\n",
    "    \n",
    "    \n",
    "if x == False:\n",
    "  if n%2 == 0:\n",
    "    print(f\"n={n} is even\")\n",
    "  else:\n",
    "    print(f\"n={n} is odd\")"
   ]
  },
  {
   "cell_type": "code",
   "execution_count": 3,
   "metadata": {},
   "outputs": [
    {
     "name": "stdout",
     "output_type": "stream",
     "text": [
      "[1 2 3 4]\n"
     ]
    }
   ],
   "source": [
    "# Define an array and take its elements as input\n",
    "import numpy as np\n",
    "\n",
    "n = [1,2,3,4]\n",
    "arr = np.array(n)\n",
    "\n",
    "print(arr)"
   ]
  },
  {
   "cell_type": "markdown",
   "metadata": {},
   "source": [
    "A matrix is said to be **diagonally dominant** provided the\n",
    "magnitude of the diagonal element of each row is larger than\n",
    "the sum of the magnitudes of the off-diagonal elemets of that\n",
    "row"
   ]
  },
  {
   "cell_type": "code",
   "execution_count": 4,
   "metadata": {},
   "outputs": [
    {
     "name": "stdout",
     "output_type": "stream",
     "text": [
      "Original matrix: \n",
      "[[  90   69    0    1   -3]\n",
      " [   4    2    3    7  406]\n",
      " [  11  -12   -3   43   33]\n",
      " [   7    7   -1   -9 -100]\n",
      " [ 100   62    2    1   11]]\n",
      "____________________________________________________________________________________________________ \n",
      "\n",
      "Adjusting Row 1.\n",
      "Swapped elements 90 && 90 in row 1 to make it diagonally dominant.\n",
      "[[  90   69    0    1   -3]\n",
      " [   4    2    3    7  406]\n",
      " [  11  -12   -3   43   33]\n",
      " [   7    7   -1   -9 -100]\n",
      " [ 100   62    2    1   11]]\n",
      "Adjusting Row 2.\n",
      "Swapped elements 2 && 406 in row 2 to make it diagonally dominant.\n",
      "[[  90   69    0    1   -3]\n",
      " [   4  406    3    7    2]\n",
      " [  11  -12   -3   43   33]\n",
      " [   7    7   -1   -9 -100]\n",
      " [ 100   62    2    1   11]]\n",
      "Adjusting Row 3.\n",
      "Swapped elements -3 && 43 in row 3 to make it diagonally dominant.\n",
      "[[  90   69    0    1   -3]\n",
      " [   4  406    3    7    2]\n",
      " [  11  -12   43   -3   33]\n",
      " [   7    7   -1   -9 -100]\n",
      " [ 100   62    2    1   11]]\n",
      "Adjusting Row 4.\n",
      "Swapped elements -9 && -100 in row 4 to make it diagonally dominant.\n",
      "[[  90   69    0    1   -3]\n",
      " [   4  406    3    7    2]\n",
      " [  11  -12   43   -3   33]\n",
      " [   7    7   -1 -100   -9]\n",
      " [ 100   62    2    1   11]]\n",
      "Adjusting Row 5.\n",
      "Swapped elements 11 && 100 in row 5 to make it diagonally dominant.\n",
      "[[  90   69    0    1   -3]\n",
      " [   4  406    3    7    2]\n",
      " [  11  -12   43   -3   33]\n",
      " [   7    7   -1 -100   -9]\n",
      " [  11   62    2    1  100]]\n",
      "____________________________________________________________________________________________________ \n",
      "\n",
      "Matrix obtained is: \n",
      "[[  90   69    0    1   -3]\n",
      " [   4  406    3    7    2]\n",
      " [  11  -12   43   -3   33]\n",
      " [   7    7   -1 -100   -9]\n",
      " [  11   62    2    1  100]]\n"
     ]
    }
   ],
   "source": [
    "# Implement a function on the matrix\n",
    "# Function should make each row's diagonal element to be maximum in its row irrespective of sign\n",
    "# Output the matrix and intermediate steps\n",
    "\n",
    "import numpy as np\n",
    "\n",
    "arr = np.array([[  90 ,  69 ,   0  , 1 ,  -3],\n",
    "                [   4 ,   2 ,   3   , 7 , 406],\n",
    "                [  11 , -12 ,  -3   ,43 ,  33],\n",
    "                [   7 ,   7 , -1 ,  -9, -100],\n",
    "                [ 100 ,  62 ,   2  ,  1   ,11]])\n",
    "\n",
    "def diagonallyDominant(arr, verbose=False):\n",
    "    n = arr.shape[0]\n",
    "    for i in range(n):\n",
    "        print(f\"Adjusting Row {i+1}.\")\n",
    "        temp = list()\n",
    "        for j in arr[i]:\n",
    "            if j < 0:\n",
    "                temp.append(-j)\n",
    "            else:\n",
    "                temp.append(j)\n",
    "        max_val = max(temp)\n",
    "        index = temp.index(max_val)\n",
    "        diag_val = arr[i][i]\n",
    "        if max_val > diag_val:\n",
    "            if arr[i][index] < 0:\n",
    "                max_val = -max_val\n",
    "            arr[i][i] = max_val\n",
    "            arr[i][index] = diag_val\n",
    "        if verbose:\n",
    "            print(f\"Swapped elements {diag_val} && {max_val} in row {i+1} to make it diagonally dominant.\")\n",
    "        print(arr)\n",
    "    return arr\n",
    "\n",
    "print(\"Original matrix: \")\n",
    "print(arr)\n",
    "print(\"_\"*100,\"\\n\")\n",
    "\n",
    "A = diagonallyDominant(arr, verbose=True)\n",
    "print(\"_\"*100,\"\\n\")\n",
    "\n",
    "print(\"Matrix obtained is: \")\n",
    "print(A)"
   ]
  },
  {
   "cell_type": "code",
   "execution_count": 5,
   "metadata": {},
   "outputs": [
    {
     "name": "stdout",
     "output_type": "stream",
     "text": [
      "[[  90   69    0    1   -3]\n",
      " [   4  406    3    7    2]\n",
      " [  11  -12   43   -3   33]\n",
      " [   7    7   -1 -100   -9]\n",
      " [  11   62    2    1  100]] \n",
      " is not diagonally dominant\n"
     ]
    }
   ],
   "source": [
    "## Check the changed matrix (matrix obatined above) is diagonally dominant or not?\n",
    "import numpy as np\n",
    "\n",
    "arr = np.array([[  90 ,  69 ,   0  , 1 ,  -3],\n",
    "                [   4 ,   2 ,   3   , 7 , 406],\n",
    "                [  11 , -12 ,  -3   ,43 ,  33],\n",
    "                [   7 ,   7 , -1 ,  -9, -100],\n",
    "                [ 100 ,  62 ,   2  ,  1   ,11]])\n",
    "\n",
    "def diagonallyDominant(arr):\n",
    "    n = arr.shape[0]\n",
    "    for i in range(n):\n",
    "        temp = list()\n",
    "        for j in arr[i]:\n",
    "            if j < 0:\n",
    "                temp.append(-j)\n",
    "            else:\n",
    "                temp.append(j)\n",
    "        max_val = max(temp)\n",
    "        index = temp.index(max_val)\n",
    "        diag_val = arr[i][i]\n",
    "        if max_val > diag_val:\n",
    "            if arr[i][index] < 0:\n",
    "                max_val = -max_val\n",
    "            arr[i][i] = max_val\n",
    "            arr[i][index] = diag_val\n",
    "    return arr\n",
    "\n",
    "A = diagonallyDominant(arr)\n",
    "\n",
    "row_sum = 0\n",
    "cnt = 0 \n",
    "arr = A\n",
    "n = arr.shape[0]\n",
    "\n",
    "for i in range(n):\n",
    "  row_sum = 0\n",
    "  for j in range(n):\n",
    "    if i != j:\n",
    "      row_sum += abs(arr[i][j])\n",
    "  if row_sum > abs(arr[i][i]):\n",
    "    break\n",
    "  else:\n",
    "      cnt += 1  \n",
    "    \n",
    "if cnt == n:\n",
    "  print(f\"{A} is diagonally dominant\")\n",
    "  \n",
    "else :\n",
    "  print(f\"{A} \\n is not diagonally dominant\")"
   ]
  },
  {
   "cell_type": "code",
   "execution_count": 6,
   "metadata": {},
   "outputs": [
    {
     "name": "stdout",
     "output_type": "stream",
     "text": [
      "[[  90   69  -70    1   -3]\n",
      " [   4  406    3    7    2]\n",
      " [  11  -12   43   -3   33]\n",
      " [   7    7   -1 -100   -9]\n",
      " [  11   62    2    1  100]] \n",
      " is not diagonally dominant\n",
      "Row 0 is creating the problem with elements [ 90  69 -70   1  -3]\n",
      "Row 2 is creating the problem with elements [ 11 -12  43  -3  33]\n"
     ]
    }
   ],
   "source": [
    "import numpy as np\n",
    "\n",
    "arr = np.array([[  90 ,  69 ,   -70  , 1 ,  -3],\n",
    "                [   4 ,   2 ,   3   , 7 , 406],\n",
    "                [  11 , -12 ,  -3   ,43 ,  33],\n",
    "                [   7 ,   7 , -1 ,  -9, -100],\n",
    "                [ 100 ,  62 ,   2  ,  1   ,11]])\n",
    "\n",
    "def diagonallyDominant(arr):\n",
    "    n = arr.shape[0]\n",
    "    for i in range(n):\n",
    "        temp = list()\n",
    "        for j in arr[i]:\n",
    "            if j < 0:\n",
    "                temp.append(-j)\n",
    "            else:\n",
    "                temp.append(j)\n",
    "        max_val = max(temp)\n",
    "        index = temp.index(max_val)\n",
    "        diag_val = arr[i][i]\n",
    "        if max_val > diag_val:\n",
    "            if arr[i][index] < 0:\n",
    "                max_val = -max_val\n",
    "            arr[i][i] = max_val\n",
    "            arr[i][index] = diag_val\n",
    "    return arr\n",
    "\n",
    "A = diagonallyDominant(arr)\n",
    "\n",
    "# Check which row creates the problem if the matrix is not diagonally dominant\n",
    "# And print that row indexes with elements\n",
    "\n",
    "row_sum = 0\n",
    "cnt = 0 \n",
    "arr = A\n",
    "n = arr.shape[0]\n",
    "problem_rows = list()\n",
    "\n",
    "for i in range(n):\n",
    "  row_sum = 0\n",
    "  for j in range(n):\n",
    "    if i != j:\n",
    "      row_sum += abs(arr[i][j])\n",
    "  if row_sum > abs(arr[i][i]):\n",
    "    problem_rows.append(i)\n",
    "  else:\n",
    "      cnt += 1  \n",
    "    \n",
    "if cnt == n:\n",
    "  print(f\"{A} is diagonally dominant\")\n",
    "  \n",
    "else :\n",
    "  print(f\"{A} \\n is not diagonally dominant\")\n",
    "\n",
    "  for i in problem_rows:\n",
    "    print(f\"Row {i} is creating the problem with elements {A[i]}\")"
   ]
  },
  {
   "cell_type": "code",
   "execution_count": 7,
   "metadata": {},
   "outputs": [
    {
     "data": {
      "image/png": "[encoded data removed]",
      "text/plain": [
       "<Figure size 640x480 with 1 Axes>"
      ]
     },
     "metadata": {},
     "output_type": "display_data"
    },
    {
     "data": {
      "image/png": "[encoded data removed]",
      "text/plain": [
       "<Figure size 640x480 with 1 Axes>"
      ]
     },
     "metadata": {},
     "output_type": "display_data"
    }
   ],
   "source": [
    "from matplotlib import pyplot as plt\n",
    "import math\n",
    "import numpy as np\n",
    "\n",
    "# Plot relu on different graph and sigmoid and tanh activations on same plots from -100 to 100\n",
    "# just read about their definations as of now\n",
    "\n",
    "x = np.linspace(-100,100, 10000)\n",
    "y_relu = []\n",
    "y_sigmoid = []\n",
    "y_tanh = []\n",
    "\n",
    "for i in range (len(x)):\n",
    "    if x[i] <= 0:\n",
    "        y_relu.append(0)\n",
    "    else:\n",
    "        y_relu.append(x[i])\n",
    "    y_sigmoid.append(1/(1+math.exp(-x[i])))\n",
    "    y_tanh.append((math.exp(x[i]) - math.exp(-x[i]))/(math.exp(x[i]) + math.exp(-x[i])))\n",
    "\n",
    "plt.plot(x, y_relu, label='relu')\n",
    "plt.legend()\n",
    "plt.show()\n",
    "plt.plot(x, y_sigmoid, label='sigmoid')\n",
    "plt.plot(x, y_tanh, label='tanh')\n",
    "plt.legend()\n",
    "plt.show()"
   ]
  },
  {
   "cell_type": "code",
   "execution_count": 8,
   "metadata": {},
   "outputs": [
    {
     "data": {
      "image/png": "[encoded data removed]",
      "text/plain": [
       "<Figure size 640x480 with 1 Axes>"
      ]
     },
     "metadata": {},
     "output_type": "display_data"
    }
   ],
   "source": [
    "# Plot all the diagonal elements against there ReLu, Sigmoid adn tanh activations on same plot\n",
    "\n",
    "from matplotlib import pyplot as plt\n",
    "import numpy as np\n",
    "import math\n",
    "\n",
    "# Plot relu on different graph and sigmoid and tanh activations on same plots from -100 to 100\n",
    "# just read about their definations as of now\n",
    "\n",
    "arr = np.array([[  90,   69,    0,   -1,   -3],\n",
    "                [   4,  406,   3,    7,    2],\n",
    "                [  11,  -12,   43,   -3,   33],\n",
    "                [   7,    7,  -1, -100,   -9],\n",
    "                [  11,   62,    2,    1,  100]])\n",
    "x =[]\n",
    "y_relu = []\n",
    "y_sigmoid = []\n",
    "y_tanh = []\n",
    "\n",
    "for i in range(len(arr)):\n",
    "    x.append(arr[i][i])\n",
    "\n",
    "for i in x:\n",
    "    y_relu.append(max(0,i))\n",
    "    y_sigmoid.append(1/(1+math.exp(-i)))\n",
    "    y_tanh.append((math.exp(i)-math.exp(-i))/(math.exp(i)+math.exp(-i)))\n",
    "\n",
    "plt.plot(x, y_relu, 'ro')\n",
    "plt.plot(x, y_sigmoid, 'b+')\n",
    "plt.plot(x, y_tanh, 'gx')\n",
    "plt.show()"
   ]
  },
  {
   "cell_type": "code",
   "execution_count": 9,
   "metadata": {},
   "outputs": [
    {
     "name": "stdout",
     "output_type": "stream",
     "text": [
      "Softmax of the diagonal elements of the matrix :\n",
      " [5.793536115188646e-138, 1.0, 2.244414517195439e-158, 1.7660059276035744e-220, 1.276111250721801e-133]\n"
     ]
    }
   ],
   "source": [
    "# Read about softmax function's defination / formula\n",
    "# Define and Implement  softmax function on diagonal elements of the matrix\n",
    "\n",
    "import numpy as np\n",
    "import math\n",
    "\n",
    "arr = np.array([[  90,   69,    0,   -1,   -3],\n",
    "                [   4,  406,   3,    7,    2],\n",
    "                [  11,  -12,   43,   -3,   33],\n",
    "                [   7,    7,  -1, -100,   -9],\n",
    "                [  11,   62,    2,    1,  100]])\n",
    "diag_elements = np.diagonal(arr)\n",
    "\n",
    "def softmax(arr):\n",
    "  n = arr.shape[0]\n",
    "  dd = []\n",
    "  denom = 0\n",
    "  for i in range(n):\n",
    "    denom += math.exp(diag_elements[i])\n",
    "  for i in range(n):\n",
    "    dd.append(math.exp(diag_elements[i])/denom)\n",
    "  return dd\n",
    "\n",
    "print(\"Softmax of the diagonal elements of the matrix :\\n\", softmax(arr))"
   ]
  },
  {
   "cell_type": "code",
   "execution_count": 10,
   "metadata": {},
   "outputs": [
    {
     "data": {
      "image/png": "[encoded data removed]",
      "text/plain": [
       "<Figure size 640x480 with 1 Axes>"
      ]
     },
     "metadata": {},
     "output_type": "display_data"
    }
   ],
   "source": [
    "# Plot softmax of the diagonal elements against the diagonal elements\n",
    "\n",
    "from matplotlib import pyplot as plt\n",
    "import numpy as np\n",
    "import math\n",
    "\n",
    "arr = np.array([[  90,   69,    0,   -1,   -3],\n",
    "                [   4,  406,   3,    7,    2],\n",
    "                [  11,  -12,   43,   -3,   33],\n",
    "                [   7,    7,  -1, -100,   -9],\n",
    "                [  11,   62,    2,    1,  100]])\n",
    "diag_elements = np.diagonal(arr)\n",
    "\n",
    "def softmax(arr):\n",
    "  n = arr.shape[0]\n",
    "  dd = []\n",
    "  denom = 0\n",
    "  for i in range(n):\n",
    "    denom += math.exp(diag_elements[i])\n",
    "  for i in range(n):\n",
    "    dd.append(math.exp(diag_elements[i])/denom)\n",
    "  return dd\n",
    "\n",
    "plt.plot(softmax(diag_elements), diag_elements, 'bo')\n",
    "plt.show()"
   ]
  },
  {
   "cell_type": "code",
   "execution_count": 11,
   "metadata": {},
   "outputs": [
    {
     "name": "stdout",
     "output_type": "stream",
     "text": [
      "90 : Not a max element in all diagonal elements\n",
      "406 : Max element in all diagonal elements\n",
      "43 : Not a max element in all diagonal elements\n",
      "7 : Not a max element in all diagonal elements\n",
      "100 : Not a max element in all diagonal elements\n"
     ]
    }
   ],
   "source": [
    "# usinf softmax and diagonal elements try to find out the max element\n",
    "# you are not allowed to use max function\n",
    "# to find index of max element you can use \"argmax()\" function\n",
    "import numpy as np\n",
    "import math\n",
    "\n",
    "arr = np.array([[  90,   69,    0,   -1,   -3],\n",
    "                [   4,  406,   3,    7,    2],\n",
    "                [  11,  -12,   43,   -3,   33],\n",
    "                [   7,    7,  -1, -100,   -9],\n",
    "                [  11,   62,    2,    1,  100]])\n",
    "diag_elements = np.diagonal(arr)\n",
    "\n",
    "def softmax(arr):\n",
    "  n = arr.shape[0]\n",
    "  dd = []\n",
    "  denom = 0\n",
    "  for i in range(n):\n",
    "    denom += math.exp(diag_elements[i])\n",
    "  for i in range(n):\n",
    "    dd.append(math.exp(diag_elements[i])/denom)\n",
    "  return dd\n",
    "\n",
    "arr1 = np.array(softmax(diag_elements))\n",
    "index = np.argmax(arr1)\n",
    "\n",
    "for i in range(len(arr)):\n",
    "  if i == index:\n",
    "    val_index = np.argmax(arr[i])\n",
    "    val = arr[i][val_index]\n",
    "\n",
    "for i in range(len(arr)):\n",
    "  max_val = arr[i][np.argmax(arr[i])]\n",
    "  if np.argmax(arr[i]) == val_index:\n",
    "    print(f\"{val} : Max element in all diagonal elements\")\n",
    "  else:\n",
    "    print(f\"{max_val} : Not a max element in all diagonal elements\")"
   ]
  },
  {
   "cell_type": "markdown",
   "metadata": {},
   "source": [
    "What Conclusion could you draw from softmax function?\n",
    "\n",
    "\n",
    "\n",
    "\n",
    "\n"
   ]
  },
  {
   "cell_type": "markdown",
   "metadata": {},
   "source": [
    "<hr>\n",
    "From my observation, softmax function scales down the given list of numbers between a range [0,1]. This helped in finding the maximum value \n",
    "diagonal element in the 2-D array.\n",
    "<hr>"
   ]
  }
 ],
 "metadata": {
  "kernelspec": {
   "display_name": "myenv",
   "language": "python",
   "name": "python3"
  },
  "language_info": {
   "codemirror_mode": {
    "name": "ipython",
    "version": 3
   },
   "file_extension": ".py",
   "mimetype": "text/x-python",
   "name": "python",
   "nbconvert_exporter": "python",
   "pygments_lexer": "ipython3",
   "version": "3.10.6"
  }
 },
 "nbformat": 4,
 "nbformat_minor": 2
}
